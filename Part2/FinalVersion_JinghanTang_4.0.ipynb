{
 "cells": [
  {
   "cell_type": "code",
   "execution_count": 344,
   "metadata": {
    "collapsed": false
   },
   "outputs": [],
   "source": [
    "import pandas as pd \n",
    "%matplotlib inline\n",
    "import csv"
   ]
  },
  {
   "cell_type": "code",
   "execution_count": 345,
   "metadata": {
    "collapsed": false
   },
   "outputs": [
    {
     "data": {
      "text/plain": [
       "['LogNumber',\n",
       " 'Institution',\n",
       " 'Program',\n",
       " 'ProgramType',\n",
       " 'ProjectTitle',\n",
       " 'ProjectType',\n",
       " 'AwardDate',\n",
       " 'InstAddr1',\n",
       " 'InstAddr2',\n",
       " 'InstAddr3',\n",
       " 'InstCity',\n",
       " 'InstState',\n",
       " 'InstZip',\n",
       " 'AwardOrig',\n",
       " 'AwardTotal',\n",
       " 'AppMatchAmount',\n",
       " 'ReqAwardAmount',\n",
       " 'ReqMatchAmount',\n",
       " 'Prefix',\n",
       " 'FirstName',\n",
       " 'LastName',\n",
       " 'OrgType',\n",
       " 'FiscalYear',\n",
       " 'AwardPeriodFr',\n",
       " 'AwardPeriodTo',\n",
       " 'OrgUnit',\n",
       " 'OUAddr1',\n",
       " 'OUAddr2',\n",
       " 'OUAddr3',\n",
       " 'OUCity',\n",
       " 'OUState',\n",
       " 'OUZip',\n",
       " 'Latitude',\n",
       " 'Longitude',\n",
       " 'FIPSState',\n",
       " 'FIPSCounty',\n",
       " 'CensusTract',\n",
       " 'CensusBlock',\n",
       " 'FIPSMCDCode',\n",
       " 'FIPSPlaceCode',\n",
       " 'CBSACode',\n",
       " 'MetroDivisionCode',\n",
       " 'Description']"
      ]
     },
     "execution_count": 345,
     "metadata": {},
     "output_type": "execute_result"
    }
   ],
   "source": [
    "fn = \"IMLS.csv\"\n",
    "data = {}\n",
    "with open(fn, \"r\") as f:\n",
    "    reader = csv.reader(f)\n",
    "    header = next(reader)\n",
    "header              #learn the dataset"
   ]
  },
  {
   "cell_type": "code",
   "execution_count": 346,
   "metadata": {
    "collapsed": false
   },
   "outputs": [
    {
     "data": {
      "text/plain": [
       "'2.0.7'"
      ]
     },
     "execution_count": 346,
     "metadata": {},
     "output_type": "execute_result"
    }
   ],
   "source": [
    "import plotly\n",
    "plotly.__version__"
   ]
  },
  {
   "cell_type": "code",
   "execution_count": 347,
   "metadata": {
    "collapsed": false
   },
   "outputs": [
    {
     "data": {
      "text/html": [
       "<iframe id=\"igraph\" scrolling=\"no\" style=\"border:none;\" seamless=\"seamless\" src=\"https://plot.ly/~jinghantang54/4.embed\" height=\"525px\" width=\"100%\"></iframe>"
      ],
      "text/plain": [
       "<plotly.tools.PlotlyDisplay object>"
      ]
     },
     "execution_count": 347,
     "metadata": {},
     "output_type": "execute_result"
    }
   ],
   "source": [
    "import plotly.plotly as py   \n",
    "df = pd.read_csv('IMLS.csv',encoding='iso-8859-1',sep=',') #use pandas to open and store the data as 'df'\n",
    "df['text'] = df['Institution'] + '<br>Award ' + (df['AwardTotal']).astype(str)+' dollar'\n",
    "groups = [(1000,5000),(5000,10000),(10000,100000),(100000,1000000),(1000000,10000000)]\n",
    "colors = [\"rgb(0,201,87)\",\"rgb(0,116,217)\",\"rgb(255,255,0)\",\"rgb(255,128,0)\",\"rgb(255,65,54)\"]\n",
    "d = []    #set the note text,the group range as well as color of bubbles\n",
    " \n",
    "for i in range(0,3): #divide the five groups into two sections using different scale to adjust the size in case the bubble of the first 2 groups are too small\n",
    "    end = groups[i]\n",
    "    sudf=df[((df['AwardTotal'])>end[0])&((df['AwardTotal'])<=end[1])]\n",
    "    Inst = dict(\n",
    "        type = 'scattergeo',\n",
    "        locationmode = 'USA-states',\n",
    "        lon = sudf['Longitude'],\n",
    "        lat = sudf['Latitude'],\n",
    "        text = sudf['text'],\n",
    "        marker = dict(\n",
    "            size = sudf['AwardTotal']/500,  #adjust the size of the bubble when price is too little\n",
    "            color = colors[i],\n",
    "            line = dict(width=0.5, color='rgb(40,40,40)'),\n",
    "            sizemode = 'area'\n",
    "        ),\n",
    "         name ='{0} - {1}'.format(end[0],end[1])+'  US dollar' )\n",
    "        \n",
    "    d.append(Inst)\n",
    "for i in range(3,len(groups)):\n",
    "    end = groups[i]\n",
    "    sudf=df[((df['AwardTotal'])>end[0])&((df['AwardTotal'])<=end[1])]\n",
    "    Inst = dict(\n",
    "        type = 'scattergeo',\n",
    "        locationmode = 'USA-states',\n",
    "        lon = sudf['Longitude'],\n",
    "        lat = sudf['Latitude'],\n",
    "        text = sudf['text'],\n",
    "        marker = dict(\n",
    "            size = sudf['AwardTotal']/5500, #adjust the size of the bubbles when price is quite big\n",
    "            color = colors[i],\n",
    "            line = dict(width=0.5, color='rgb(40,40,40)'),\n",
    "            sizemode = 'area'\n",
    "        ),\n",
    "         name ='{0} - {1}'.format(end[0],end[1])+'  US dollar' )\n",
    "        \n",
    "    d.append(Inst)\n",
    "\n",
    "layout = dict(\n",
    "        title = 'Awards Amount and Awarded Institutions Distribution(1996-2013)<br>(Click legend to toggle traces)',\n",
    "        showlegend = True,\n",
    "        geo = dict(  #import the usa map from plotly\n",
    "            scope='usa',\n",
    "            projection=dict( type='albers usa' ),\n",
    "            showland = True,\n",
    "            landcolor = 'rgb(217, 217, 217)',\n",
    "            subunitwidth=1,\n",
    "            countrywidth=1,\n",
    "            subunitcolor=\"rgb(255, 255, 255)\",\n",
    "            countrycolor=\"rgb(255, 255, 255)\"\n",
    "        ),\n",
    "    )\n",
    "\n",
    "fig = dict( data=d, layout=layout )\n",
    "py.iplot( fig, validate=False, filename='price_amount_distribution' )"
   ]
  },
  {
   "cell_type": "code",
   "execution_count": 348,
   "metadata": {
    "collapsed": false
   },
   "outputs": [
    {
     "data": {
      "text/html": [
       "<iframe id=\"igraph\" scrolling=\"no\" style=\"border:none;\" seamless=\"seamless\" src=\"https://plot.ly/~jinghantang54/6.embed\" height=\"525px\" width=\"100%\"></iframe>"
      ],
      "text/plain": [
       "<plotly.tools.PlotlyDisplay object>"
      ]
     },
     "execution_count": 348,
     "metadata": {},
     "output_type": "execute_result"
    }
   ],
   "source": [
    "df['text'] = df['Institution'] + '<br>Award ' + df['ProgramType']\n",
    "types = [      #build a list of grant types\n",
    "\"IM\",\n",
    "\"IC\",\n",
    "\"LT\",\n",
    "\"LG\",\n",
    "\"IA\",\n",
    "\"IS\",\n",
    "\"LI\",\n",
    "\"MA\",\n",
    "\"MH\",\n",
    "\"ML\",\n",
    "\"MN\",\n",
    "\"IG\",\n",
    "\"RE\",\n",
    "\"LE\",\n",
    "\"IL\",\n",
    "\"MP\",\n",
    "\"ST\"]\n",
    "colors = [\"rgb(0,201,87)\",\"rgb(188,143,143)\",\"rgb(135 206 235)\",\"rgb(255,0,225)\",\"rgb(61,145,64)\",\"rgb(218,112,205)\",\"rgb(255,235,205)\",\"rgb(135,38,87)\",\"rgb(61,89,171)\",\"rgb(30,144,255)\",\"rgb(189,252,201)\",\"rgb(255,192,203)\",\"rgb(94,38,15)\",\"rgb(255,0,1)\",\"rgb(255,255,0)\",\"rgb(255,128,0)\",\"rgb(163,148,128)\"]\n",
    "d2 = []   #select colors with quite big differences\n",
    "\n",
    " \n",
    "for i in range(len(types)):\n",
    "    sudf=df[(df['ProgramType'])==types[i]]\n",
    "    Inst = dict(\n",
    "        type = 'scattergeo',\n",
    "        locationmode = 'USA-states',\n",
    "        lon = sudf['Longitude'],\n",
    "        lat = sudf['Latitude'],\n",
    "        text = sudf['text'],\n",
    "        marker = dict(\n",
    "            size = 5,\n",
    "            color = colors[i],\n",
    "            line = dict(width=0.5, color='rgb(40,40,40)'),\n",
    "            sizemode = 'area'\n",
    "        ),\n",
    "         name ='{0} '.format(types[i]))\n",
    "        \n",
    "    d2.append(Inst)  # build the data for visualizaiont\n",
    "\n",
    "layout = dict(\n",
    "        title = '1996-2013 Awards Type and Awarded Institutions Distribution <br>(Click legend to toggle traces)',\n",
    "        showlegend = True,\n",
    "        geo = dict(\n",
    "            scope='usa',\n",
    "            projection=dict( type='albers usa' ),\n",
    "            showland = True,\n",
    "            landcolor = 'rgb(217, 217, 217)',\n",
    "            subunitwidth=1,\n",
    "            countrywidth=1,\n",
    "            subunitcolor=\"rgb(255, 255, 255)\",\n",
    "            countrycolor=\"rgb(255, 255, 255)\"\n",
    "        ),\n",
    "    )   #set the layout for visualization\n",
    "\n",
    "fig = dict( data=d2, layout=layout )\n",
    "py.iplot( fig, validate=False, filename='award_type_distribution' )"
   ]
  },
  {
   "cell_type": "code",
   "execution_count": 349,
   "metadata": {
    "collapsed": false
   },
   "outputs": [],
   "source": [
    "# To generate the third plot, use csv to reopen the dataset and build a dictionary 'data' to store the data\n",
    "fn = \"IMLS.csv\"\n",
    "data1 = {}\n",
    "with open(fn, \"r\", encoding='iso-8859-1') as f:\n",
    "    reader = csv.reader(f,delimiter=',',quotechar='|')\n",
    "    header = next(reader)\n",
    "    for k in header:\n",
    "        data1[k] = []\n",
    "    for row in reader:\n",
    "        for k,v in zip(header,row):\n",
    "            data1[k].append(v)\n"
   ]
  },
  {
   "cell_type": "code",
   "execution_count": 350,
   "metadata": {
    "collapsed": false
   },
   "outputs": [
    {
     "data": {
      "text/plain": [
       "['LogNumber',\n",
       " 'Institution',\n",
       " 'Program',\n",
       " 'ProgramType',\n",
       " 'ProjectTitle',\n",
       " 'ProjectType',\n",
       " 'AwardDate',\n",
       " 'InstAddr1',\n",
       " 'InstAddr2',\n",
       " 'InstAddr3',\n",
       " 'InstCity',\n",
       " 'InstState',\n",
       " 'InstZip',\n",
       " 'AwardOrig',\n",
       " 'AwardTotal',\n",
       " 'AppMatchAmount',\n",
       " 'ReqAwardAmount',\n",
       " 'ReqMatchAmount',\n",
       " 'Prefix',\n",
       " 'FirstName',\n",
       " 'LastName',\n",
       " 'OrgType',\n",
       " 'FiscalYear',\n",
       " 'AwardPeriodFr',\n",
       " 'AwardPeriodTo',\n",
       " 'OrgUnit',\n",
       " 'OUAddr1',\n",
       " 'OUAddr2',\n",
       " 'OUAddr3',\n",
       " 'OUCity',\n",
       " 'OUState',\n",
       " 'OUZip',\n",
       " 'Latitude',\n",
       " 'Longitude',\n",
       " 'FIPSState',\n",
       " 'FIPSCounty',\n",
       " 'CensusTract',\n",
       " 'CensusBlock',\n",
       " 'FIPSMCDCode',\n",
       " 'FIPSPlaceCode',\n",
       " 'CBSACode',\n",
       " 'MetroDivisionCode',\n",
       " 'Description']"
      ]
     },
     "execution_count": 350,
     "metadata": {},
     "output_type": "execute_result"
    }
   ],
   "source": [
    "header"
   ]
  },
  {
   "cell_type": "code",
   "execution_count": 351,
   "metadata": {
    "collapsed": false
   },
   "outputs": [],
   "source": [
    "leng=len(data1['Longitude'])"
   ]
  },
  {
   "cell_type": "code",
   "execution_count": 352,
   "metadata": {
    "collapsed": false
   },
   "outputs": [
    {
     "data": {
      "text/plain": [
       "nan"
      ]
     },
     "execution_count": 352,
     "metadata": {},
     "output_type": "execute_result"
    }
   ],
   "source": [
    "x=[]\n",
    "for i in df['InstState']:\n",
    "    if i not in x:\n",
    "        x.append(i)  #build a list for unique states in the 'InstState' column\n",
    "x.pop()  #remove the null value in the column"
   ]
  },
  {
   "cell_type": "code",
   "execution_count": 353,
   "metadata": {
    "collapsed": false
   },
   "outputs": [
    {
     "data": {
      "text/plain": [
       "['AK',\n",
       " 'AL',\n",
       " 'CA',\n",
       " 'CO',\n",
       " 'CT',\n",
       " 'DC',\n",
       " 'FL',\n",
       " 'GA',\n",
       " 'HI',\n",
       " 'ID',\n",
       " 'IL',\n",
       " 'IN',\n",
       " 'KS',\n",
       " 'KY',\n",
       " 'MA',\n",
       " 'MD',\n",
       " 'ME',\n",
       " 'MI',\n",
       " 'MN',\n",
       " 'MO',\n",
       " 'MS',\n",
       " 'MT',\n",
       " 'NC',\n",
       " 'NE',\n",
       " 'NH',\n",
       " 'NJ',\n",
       " 'NM',\n",
       " 'NV',\n",
       " 'NY',\n",
       " 'OH',\n",
       " 'OK',\n",
       " 'OR',\n",
       " 'PA',\n",
       " 'PR',\n",
       " 'SC',\n",
       " 'SD',\n",
       " 'TN',\n",
       " 'TX',\n",
       " 'UT',\n",
       " 'VA',\n",
       " 'VT',\n",
       " 'WA',\n",
       " 'WI',\n",
       " 'WV',\n",
       " 'AR',\n",
       " 'AZ',\n",
       " 'IA',\n",
       " 'ND',\n",
       " 'RI',\n",
       " 'DE',\n",
       " 'LA',\n",
       " 'WY',\n",
       " 'VI']"
      ]
     },
     "execution_count": 353,
     "metadata": {},
     "output_type": "execute_result"
    }
   ],
   "source": [
    "x"
   ]
  },
  {
   "cell_type": "code",
   "execution_count": 354,
   "metadata": {
    "collapsed": false
   },
   "outputs": [
    {
     "data": {
      "text/plain": [
       "53"
      ]
     },
     "execution_count": 354,
     "metadata": {},
     "output_type": "execute_result"
    }
   ],
   "source": [
    "len(x)"
   ]
  },
  {
   "cell_type": "code",
   "execution_count": 355,
   "metadata": {
    "collapsed": false
   },
   "outputs": [],
   "source": [
    "y=[]\n",
    "for i in df['ProgramType']:\n",
    "    if i not in y:\n",
    "        y.append(i) #build  a list of unique grant type"
   ]
  },
  {
   "cell_type": "code",
   "execution_count": 356,
   "metadata": {
    "collapsed": false
   },
   "outputs": [
    {
     "data": {
      "text/plain": [
       "['IA',\n",
       " 'IC',\n",
       " 'IG',\n",
       " 'IL',\n",
       " 'IM',\n",
       " 'IS',\n",
       " 'LE',\n",
       " 'LG',\n",
       " 'LI',\n",
       " 'LT',\n",
       " 'MA',\n",
       " 'MH',\n",
       " 'ML',\n",
       " 'MN',\n",
       " 'RE',\n",
       " 'ST',\n",
       " 'MP']"
      ]
     },
     "execution_count": 356,
     "metadata": {},
     "output_type": "execute_result"
    }
   ],
   "source": [
    "y"
   ]
  },
  {
   "cell_type": "code",
   "execution_count": 357,
   "metadata": {
    "collapsed": false
   },
   "outputs": [],
   "source": [
    "adict={} #build  a dictionary to match the states and grants and count the appearance of each state in each grant \n",
    "for k in y:\n",
    "    adict[k]=[]\n",
    "    for f in x:\n",
    "        adict[k].append([f,0])\n",
    "for j in range(len(y)):\n",
    "    for i in range(leng):\n",
    "        if data1['ProgramType'][i]==y[j]:\n",
    "            if data1['InstState'][i] in x:\n",
    "                adict[y[j]][x.index(data1['InstState'][i])][1]+=1"
   ]
  },
  {
   "cell_type": "code",
   "execution_count": 358,
   "metadata": {
    "collapsed": false
   },
   "outputs": [
    {
     "data": {
      "text/plain": [
       "17"
      ]
     },
     "execution_count": 358,
     "metadata": {},
     "output_type": "execute_result"
    }
   ],
   "source": [
    "len(adict)"
   ]
  },
  {
   "cell_type": "code",
   "execution_count": 359,
   "metadata": {
    "collapsed": false
   },
   "outputs": [
    {
     "data": {
      "text/plain": [
       "[7,\n",
       " 5,\n",
       " 73,\n",
       " 29,\n",
       " 35,\n",
       " 0,\n",
       " 18,\n",
       " 9,\n",
       " 8,\n",
       " 3,\n",
       " 44,\n",
       " 9,\n",
       " 6,\n",
       " 8,\n",
       " 84,\n",
       " 25,\n",
       " 32,\n",
       " 43,\n",
       " 25,\n",
       " 18,\n",
       " 0,\n",
       " 11,\n",
       " 16,\n",
       " 5,\n",
       " 23,\n",
       " 15,\n",
       " 8,\n",
       " 0,\n",
       " 114,\n",
       " 32,\n",
       " 2,\n",
       " 11,\n",
       " 79,\n",
       " 0,\n",
       " 2,\n",
       " 4,\n",
       " 10,\n",
       " 22,\n",
       " 10,\n",
       " 24,\n",
       " 17,\n",
       " 9,\n",
       " 32,\n",
       " 0,\n",
       " 3,\n",
       " 18,\n",
       " 10,\n",
       " 1,\n",
       " 10,\n",
       " 12,\n",
       " 10,\n",
       " 4,\n",
       " 1]"
      ]
     },
     "execution_count": 359,
     "metadata": {},
     "output_type": "execute_result"
    }
   ],
   "source": [
    "alist=[]  #add all the times of appearance into  alist\n",
    "for i in range(len(y)):\n",
    "    alist.append(adict[y[i]][0][1])\n",
    "    alist.append(adict[y[i]][1][1])\n",
    "    alist.append(adict[y[i]][2][1])\n",
    "    alist.append(adict[y[i]][3][1])\n",
    "    alist.append(adict[y[i]][4][1])\n",
    "    alist.append(adict[y[i]][5][1])\n",
    "    alist.append(adict[y[i]][6][1])\n",
    "    alist.append(adict[y[i]][7][1])\n",
    "    alist.append(adict[y[i]][8][1])\n",
    "    alist.append(adict[y[i]][9][1])\n",
    "    alist.append(adict[y[i]][10][1])\n",
    "    alist.append(adict[y[i]][11][1])\n",
    "    alist.append(adict[y[i]][12][1])\n",
    "    alist.append(adict[y[i]][13][1])\n",
    "    alist.append(adict[y[i]][14][1])\n",
    "    alist.append(adict[y[i]][15][1])\n",
    "    alist.append(adict[y[i]][16][1])\n",
    "    alist.append(adict[y[i]][17][1])\n",
    "    alist.append(adict[y[i]][18][1])\n",
    "    alist.append(adict[y[i]][19][1])\n",
    "    alist.append(adict[y[i]][20][1])\n",
    "    alist.append(adict[y[i]][21][1])\n",
    "    alist.append(adict[y[i]][22][1])\n",
    "    alist.append(adict[y[i]][23][1])\n",
    "    alist.append(adict[y[i]][24][1])\n",
    "    alist.append(adict[y[i]][25][1])\n",
    "    alist.append(adict[y[i]][26][1])\n",
    "    alist.append(adict[y[i]][27][1])\n",
    "    alist.append(adict[y[i]][28][1])\n",
    "    alist.append(adict[y[i]][29][1])\n",
    "    alist.append(adict[y[i]][30][1])\n",
    "    alist.append(adict[y[i]][31][1])\n",
    "    alist.append(adict[y[i]][32][1])\n",
    "    alist.append(adict[y[i]][33][1])\n",
    "    alist.append(adict[y[i]][34][1])\n",
    "    alist.append(adict[y[i]][35][1])\n",
    "    alist.append(adict[y[i]][36][1])\n",
    "    alist.append(adict[y[i]][37][1])\n",
    "    alist.append(adict[y[i]][38][1])\n",
    "    alist.append(adict[y[i]][39][1])\n",
    "    alist.append(adict[y[i]][40][1])\n",
    "    alist.append(adict[y[i]][41][1])\n",
    "    alist.append(adict[y[i]][42][1])\n",
    "    alist.append(adict[y[i]][43][1])\n",
    "    alist.append(adict[y[i]][44][1])\n",
    "    alist.append(adict[y[i]][45][1])\n",
    "    alist.append(adict[y[i]][46][1])\n",
    "    alist.append(adict[y[i]][47][1])\n",
    "    alist.append(adict[y[i]][48][1])\n",
    "    alist.append(adict[y[i]][49][1])\n",
    "    alist.append(adict[y[i]][50][1])\n",
    "    alist.append(adict[y[i]][51][1])\n",
    "    alist.append(adict[y[i]][52][1])\n",
    "\n",
    "\n",
    "x1=alist[53:53*2]\n",
    "x1"
   ]
  },
  {
   "cell_type": "code",
   "execution_count": 360,
   "metadata": {
    "collapsed": false
   },
   "outputs": [
    {
     "data": {
      "text/plain": [
       "562"
      ]
     },
     "execution_count": 360,
     "metadata": {},
     "output_type": "execute_result"
    }
   ],
   "source": [
    "x0=alist[0:len(x)]  #divide the list and assign the data of each grant to their respective list \n",
    "x1=alist[len(x):len(x)*2]\n",
    "x2=alist[len(x)*2:len(x)*3]\n",
    "x3=alist[len(x)*3:len(x)*4]\n",
    "x4=alist[len(x)*4:len(x)*5]\n",
    "x5=alist[len(x)*5:len(x)*6]\n",
    "x6=alist[len(x)*6:len(x)*7]\n",
    "x7=alist[len(x)*7:len(x)*8]\n",
    "x8=alist[len(x)*8:len(x)*9]\n",
    "x9=alist[len(x)*9:len(x)*10]\n",
    "x10=alist[len(x)*10:len(x)*11]\n",
    "x11=alist[len(x)*11:len(x)*12]\n",
    "x12=alist[len(x)*12:len(x)*13]\n",
    "x13=alist[len(x)*13:len(x)*14]\n",
    "x14=alist[len(x)*14:len(x)*15]\n",
    "x15=alist[len(x)*15:len(x)*16]\n",
    "x16=alist[len(x)*16:len(x)*17]\n",
    "\n",
    "max(alist)"
   ]
  },
  {
   "cell_type": "code",
   "execution_count": 361,
   "metadata": {
    "collapsed": false
   },
   "outputs": [
    {
     "data": {
      "text/html": [
       "<iframe id=\"igraph\" scrolling=\"no\" style=\"border:none;\" seamless=\"seamless\" src=\"https://plot.ly/~jinghantang54/8.embed\" height=\"525px\" width=\"100%\"></iframe>"
      ],
      "text/plain": [
       "<plotly.tools.PlotlyDisplay object>"
      ]
     },
     "execution_count": 361,
     "metadata": {},
     "output_type": "execute_result"
    }
   ],
   "source": [
    "import plotly.graph_objs as go\n",
    "\n",
    "GrantType = x\n",
    "\n",
    "# Create and style traces for each line(grant)\n",
    "trace0 = go.Scatter(\n",
    "    x = x,\n",
    "    y = x0,\n",
    "    name = y[0],\n",
    "    line = dict(\n",
    "        color = colors[0],\n",
    "        width = 2)\n",
    ")\n",
    "trace1 = go.Scatter(\n",
    "    x = x,\n",
    "    y = x1,\n",
    "    name = y[1],\n",
    "    line = dict(\n",
    "        color = colors[1],\n",
    "        width = 2,)\n",
    ")\n",
    "trace2 = go.Scatter(\n",
    "    x = x,\n",
    "    y = x2,\n",
    "    name = y[2],\n",
    "    line = dict(\n",
    "        color = colors[2],\n",
    "        width = 2,\n",
    "        ) \n",
    ")\n",
    "trace3 = go.Scatter(\n",
    "    x = x,\n",
    "    y = x3,\n",
    "    name = y[3],\n",
    "    line = dict(\n",
    "        color = colors[3],\n",
    "        width = 2,\n",
    "        )\n",
    ")\n",
    "trace4 = go.Scatter(\n",
    "    x = x,\n",
    "    y = x4,\n",
    "    name = y[4],\n",
    "    line = dict(\n",
    "        color = colors[4],\n",
    "        width = 2,\n",
    "        )\n",
    ")\n",
    "trace5 = go.Scatter(\n",
    "    x = x,\n",
    "    y = x5,\n",
    "    name = y[5],\n",
    "    line = dict(\n",
    "        color = colors[5],\n",
    "        width = 2,\n",
    "        )\n",
    ")\n",
    "trace6 = go.Scatter(\n",
    "    x = x,\n",
    "    y = x6,\n",
    "    name = y[6],\n",
    "    line = dict(\n",
    "        color = colors[6],\n",
    "        width = 2,\n",
    "        )\n",
    ")\n",
    "trace7 = go.Scatter(\n",
    "    x = x,\n",
    "    y = x7,\n",
    "    name = y[7],\n",
    "    line = dict(\n",
    "        color = colors[7],\n",
    "        width = 2,\n",
    "       )\n",
    ")\n",
    "trace8 = go.Scatter(\n",
    "    x = x,\n",
    "    y = x8,\n",
    "    name = y[8],\n",
    "    line = dict(\n",
    "        color = colors[8],\n",
    "        width = 2,\n",
    "      )\n",
    ")\n",
    "trace9 = go.Scatter(\n",
    "    x = x,\n",
    "    y = x9,\n",
    "    name = y[9],\n",
    "    line = dict(\n",
    "        color = colors[9],\n",
    "        width = 2,\n",
    "  )\n",
    ")\n",
    "trace10 = go.Scatter(\n",
    "    x = x,\n",
    "    y = x10,\n",
    "    name = y[10],\n",
    "    line = dict(\n",
    "        color = colors[10],\n",
    "        width = 2,\n",
    "   )\n",
    ")\n",
    "trace11 = go.Scatter(\n",
    "    x = x,\n",
    "    y = x11,\n",
    "    name = y[11],\n",
    "    line = dict(\n",
    "        color = colors[11],\n",
    "        width = 2,\n",
    ")\n",
    ")\n",
    "trace12 = go.Scatter(\n",
    "    x = x,\n",
    "    y = x6,\n",
    "    name = y[12],\n",
    "    line = dict(\n",
    "        color = colors[12],\n",
    "        width = 2,\n",
    " )\n",
    ")\n",
    "trace13 = go.Scatter(\n",
    "    x = x,\n",
    "    y = x13,\n",
    "    name = y[13],\n",
    "    line = dict(\n",
    "        color = colors[13],\n",
    "        width = 2,\n",
    "   )\n",
    ")\n",
    "trace14 = go.Scatter(\n",
    "    x = x,\n",
    "    y = x14,\n",
    "    name = y[14],\n",
    "    line = dict(\n",
    "        color =colors[14],\n",
    "        width = 2,\n",
    ")\n",
    ")\n",
    "trace15 = go.Scatter(\n",
    "    x = x,\n",
    "    y = x15,\n",
    "    name = y[15],\n",
    "    line = dict(\n",
    "        color = colors[15],\n",
    "        width = 2,\n",
    " )\n",
    ")\n",
    "trace16 = go.Scatter(\n",
    "    x = x,\n",
    "    y = x16,\n",
    "    name = y[16],\n",
    "    line = dict(\n",
    "        color = colors[0],\n",
    "        width = 2,\n",
    " )\n",
    ")\n",
    "data = [trace0, trace1, trace2, trace3, trace4, trace5,trace6, trace7, trace8, trace9, trace10, trace11,trace12, trace13, trace14, trace15,trace16]\n",
    "\n",
    "# Set the title and axises \n",
    "layout = dict(title='Amount of Different Type of Awards Received in each State <br>(Move your mouse on the chart to see details)',\n",
    "              xaxis = dict(title = 'Institution State'),\n",
    "              yaxis = dict(title = 'Amount of received awards between 1996-2013'),\n",
    "              )\n",
    "\n",
    "fig = dict(data=data, layout=layout)\n",
    "py.iplot(fig, filename='correlation between states and award')"
   ]
  },
  {
   "cell_type": "code",
   "execution_count": 362,
   "metadata": {
    "collapsed": true
   },
   "outputs": [],
   "source": [
    "xlist=[]\n",
    "xlist.append(sum(x0))\n",
    "xlist.append(sum(x1))\n",
    "xlist.append(sum(x2))\n",
    "xlist.append(sum(x3))\n",
    "xlist.append(sum(x4))\n",
    "xlist.append(sum(x5))\n",
    "xlist.append(sum(x6))\n",
    "xlist.append(sum(x7))\n",
    "xlist.append(sum(x8))\n",
    "xlist.append(sum(x9))\n",
    "xlist.append(sum(x10))\n",
    "xlist.append(sum(x11))\n",
    "xlist.append(sum(x12))\n",
    "xlist.append(sum(x13))\n",
    "xlist.append(sum(x14))\n",
    "xlist.append(sum(x15))\n",
    "xlist.append(sum(x16))"
   ]
  },
  {
   "cell_type": "code",
   "execution_count": 363,
   "metadata": {
    "collapsed": false
   },
   "outputs": [
    {
     "name": "stdout",
     "output_type": "stream",
     "text": [
      "High five! You successfuly sent some data to your account on plotly. View your plot in your browser at https://plot.ly/~jinghantang54/0 or inside your plot.ly account where it is named 'text-hover-bar'\n"
     ]
    },
    {
     "data": {
      "text/html": [
       "<iframe id=\"igraph\" scrolling=\"no\" style=\"border:none;\" seamless=\"seamless\" src=\"https://plot.ly/~jinghantang54/0.embed\" height=\"525px\" width=\"100%\"></iframe>"
      ],
      "text/plain": [
       "<plotly.tools.PlotlyDisplay object>"
      ]
     },
     "execution_count": 363,
     "metadata": {},
     "output_type": "execute_result"
    }
   ],
   "source": [
    "#Generate a histogram that displays the grants IMLS supports\n",
    "py.sign_in('jinghantang54', '3DESSWev42zPSKIOgvqm')\n",
    "trace0 = go.Bar(\n",
    "    x=y,\n",
    "    y=xlist,\n",
    "    text=xlist,\n",
    "    marker=dict(\n",
    "        color='#FFD7E9',\n",
    "    ),\n",
    "    opacity=1\n",
    ")\n",
    "\n",
    "\n",
    "data2 = [trace0]\n",
    "layout = go.Layout(\n",
    "    title='Grants Supported by IMLS(1996-2013)',\n",
    ")\n",
    "\n",
    "fig = go.Figure(data=data2, layout=layout)\n",
    "py.iplot(fig, filename='text-hover-bar')"
   ]
  },
  {
   "cell_type": "code",
   "execution_count": 364,
   "metadata": {
    "collapsed": false
   },
   "outputs": [],
   "source": [
    "dt = pd.read_csv('GDP FRED.csv',encoding='iso-8859-1',sep=',')"
   ]
  },
  {
   "cell_type": "code",
   "execution_count": 365,
   "metadata": {
    "collapsed": false
   },
   "outputs": [
    {
     "data": {
      "text/html": [
       "<div>\n",
       "<table border=\"1\" class=\"dataframe\">\n",
       "  <thead>\n",
       "    <tr style=\"text-align: right;\">\n",
       "      <th></th>\n",
       "      <th>Fips</th>\n",
       "      <th>Area</th>\n",
       "      <th>1963</th>\n",
       "      <th>1964</th>\n",
       "      <th>1965</th>\n",
       "      <th>1966</th>\n",
       "      <th>1967</th>\n",
       "      <th>1968</th>\n",
       "      <th>1969</th>\n",
       "      <th>1970</th>\n",
       "      <th>...</th>\n",
       "      <th>1988</th>\n",
       "      <th>1989</th>\n",
       "      <th>1990</th>\n",
       "      <th>1991</th>\n",
       "      <th>1992</th>\n",
       "      <th>1993</th>\n",
       "      <th>1994</th>\n",
       "      <th>1995</th>\n",
       "      <th>1996</th>\n",
       "      <th>1997</th>\n",
       "    </tr>\n",
       "  </thead>\n",
       "  <tbody>\n",
       "    <tr>\n",
       "      <th>0</th>\n",
       "      <td>1000</td>\n",
       "      <td>AL</td>\n",
       "      <td>7343</td>\n",
       "      <td>8220</td>\n",
       "      <td>8994</td>\n",
       "      <td>9847</td>\n",
       "      <td>10053</td>\n",
       "      <td>10977</td>\n",
       "      <td>11866</td>\n",
       "      <td>12475</td>\n",
       "      <td>...</td>\n",
       "      <td>66008</td>\n",
       "      <td>68394</td>\n",
       "      <td>71610</td>\n",
       "      <td>76043</td>\n",
       "      <td>81260</td>\n",
       "      <td>84563</td>\n",
       "      <td>90098</td>\n",
       "      <td>95819</td>\n",
       "      <td>100146</td>\n",
       "      <td>104805</td>\n",
       "    </tr>\n",
       "    <tr>\n",
       "      <th>1</th>\n",
       "      <td>2000</td>\n",
       "      <td>AK</td>\n",
       "      <td>1083</td>\n",
       "      <td>1230</td>\n",
       "      <td>1374</td>\n",
       "      <td>1494</td>\n",
       "      <td>1643</td>\n",
       "      <td>1899</td>\n",
       "      <td>2073</td>\n",
       "      <td>2359</td>\n",
       "      <td>...</td>\n",
       "      <td>21270</td>\n",
       "      <td>23453</td>\n",
       "      <td>25040</td>\n",
       "      <td>22283</td>\n",
       "      <td>22753</td>\n",
       "      <td>23284</td>\n",
       "      <td>23605</td>\n",
       "      <td>25449</td>\n",
       "      <td>26737</td>\n",
       "      <td>27581</td>\n",
       "    </tr>\n",
       "    <tr>\n",
       "      <th>2</th>\n",
       "      <td>4000</td>\n",
       "      <td>AZ</td>\n",
       "      <td>4482</td>\n",
       "      <td>4817</td>\n",
       "      <td>5028</td>\n",
       "      <td>5527</td>\n",
       "      <td>5783</td>\n",
       "      <td>6593</td>\n",
       "      <td>7563</td>\n",
       "      <td>8569</td>\n",
       "      <td>...</td>\n",
       "      <td>64945</td>\n",
       "      <td>67895</td>\n",
       "      <td>70632</td>\n",
       "      <td>73358</td>\n",
       "      <td>82682</td>\n",
       "      <td>89300</td>\n",
       "      <td>100374</td>\n",
       "      <td>109906</td>\n",
       "      <td>119530</td>\n",
       "      <td>129279</td>\n",
       "    </tr>\n",
       "    <tr>\n",
       "      <th>3</th>\n",
       "      <td>5000</td>\n",
       "      <td>AR</td>\n",
       "      <td>3791</td>\n",
       "      <td>4148</td>\n",
       "      <td>4446</td>\n",
       "      <td>4868</td>\n",
       "      <td>5132</td>\n",
       "      <td>5704</td>\n",
       "      <td>6232</td>\n",
       "      <td>6667</td>\n",
       "      <td>...</td>\n",
       "      <td>35004</td>\n",
       "      <td>37128</td>\n",
       "      <td>38680</td>\n",
       "      <td>41572</td>\n",
       "      <td>45018</td>\n",
       "      <td>47566</td>\n",
       "      <td>51416</td>\n",
       "      <td>54612</td>\n",
       "      <td>57976</td>\n",
       "      <td>60333</td>\n",
       "    </tr>\n",
       "    <tr>\n",
       "      <th>4</th>\n",
       "      <td>6000</td>\n",
       "      <td>CA</td>\n",
       "      <td>67809</td>\n",
       "      <td>73513</td>\n",
       "      <td>78253</td>\n",
       "      <td>84627</td>\n",
       "      <td>89571</td>\n",
       "      <td>98721</td>\n",
       "      <td>106629</td>\n",
       "      <td>111985</td>\n",
       "      <td>...</td>\n",
       "      <td>671575</td>\n",
       "      <td>722979</td>\n",
       "      <td>773460</td>\n",
       "      <td>790046</td>\n",
       "      <td>807358</td>\n",
       "      <td>826447</td>\n",
       "      <td>861360</td>\n",
       "      <td>911577</td>\n",
       "      <td>964186</td>\n",
       "      <td>1037091</td>\n",
       "    </tr>\n",
       "  </tbody>\n",
       "</table>\n",
       "<p>5 rows × 37 columns</p>\n",
       "</div>"
      ],
      "text/plain": [
       "   Fips Area   1963   1964   1965   1966   1967   1968    1969    1970  \\\n",
       "0  1000   AL   7343   8220   8994   9847  10053  10977   11866   12475   \n",
       "1  2000   AK   1083   1230   1374   1494   1643   1899    2073    2359   \n",
       "2  4000   AZ   4482   4817   5028   5527   5783   6593    7563    8569   \n",
       "3  5000   AR   3791   4148   4446   4868   5132   5704    6232    6667   \n",
       "4  6000   CA  67809  73513  78253  84627  89571  98721  106629  111985   \n",
       "\n",
       "    ...       1988    1989    1990    1991    1992    1993    1994    1995  \\\n",
       "0   ...      66008   68394   71610   76043   81260   84563   90098   95819   \n",
       "1   ...      21270   23453   25040   22283   22753   23284   23605   25449   \n",
       "2   ...      64945   67895   70632   73358   82682   89300  100374  109906   \n",
       "3   ...      35004   37128   38680   41572   45018   47566   51416   54612   \n",
       "4   ...     671575  722979  773460  790046  807358  826447  861360  911577   \n",
       "\n",
       "     1996     1997  \n",
       "0  100146   104805  \n",
       "1   26737    27581  \n",
       "2  119530   129279  \n",
       "3   57976    60333  \n",
       "4  964186  1037091  \n",
       "\n",
       "[5 rows x 37 columns]"
      ]
     },
     "execution_count": 365,
     "metadata": {},
     "output_type": "execute_result"
    }
   ],
   "source": [
    "dt.head()"
   ]
  },
  {
   "cell_type": "code",
   "execution_count": 366,
   "metadata": {
    "collapsed": false
   },
   "outputs": [],
   "source": [
    "a=list(dt['1996'])\n",
    "b=list(dt['1997'])"
   ]
  },
  {
   "cell_type": "code",
   "execution_count": 367,
   "metadata": {
    "collapsed": false
   },
   "outputs": [],
   "source": [
    "z=list(df['FiscalYear'])"
   ]
  },
  {
   "cell_type": "code",
   "execution_count": 368,
   "metadata": {
    "collapsed": false
   },
   "outputs": [],
   "source": [
    "#Generate 2 lists from data of 1996 and 1997 \n",
    "blist=[1]*len(x)\n",
    "clist=[1]*len(x)\n",
    "for i in z:\n",
    "    if z==1996.0:\n",
    "        blist.apend()\n",
    "for j in range(len(x)):        \n",
    "    for i in range(leng):\n",
    "        if z[i]==1996.0:\n",
    "            if data1['InstState'][i]==x[j]:\n",
    "                blist[j]+=1\n",
    "for i in z:\n",
    "    if z==1997.0:\n",
    "        clist.apend()\n",
    "for j in range(len(x)):        \n",
    "    for i in range(leng):\n",
    "        if z[i]==1997.0:\n",
    "            if data1['InstState'][i]==x[j]:\n",
    "                clist[j]+=1"
   ]
  },
  {
   "cell_type": "code",
   "execution_count": 369,
   "metadata": {
    "collapsed": false
   },
   "outputs": [
    {
     "data": {
      "text/plain": [
       "53"
      ]
     },
     "execution_count": 369,
     "metadata": {},
     "output_type": "execute_result"
    }
   ],
   "source": [
    "len(clist)"
   ]
  },
  {
   "cell_type": "code",
   "execution_count": 370,
   "metadata": {
    "collapsed": false
   },
   "outputs": [],
   "source": [
    "#Also collect data of 1996 and 1997 from GDP dataset \n",
    "dlist=[1]*len(x)\n",
    "\n",
    "for i in range(len(x)):\n",
    "    for j in range(len(a)):\n",
    "        if list(dt['Area'])[j]==x[i]:\n",
    "            dlist[i]=a[j]\n",
    "\n",
    "\n",
    "elist=[1]*len(x)\n",
    "\n",
    "for i in range(len(x)):\n",
    "    for j in range(len(b)):\n",
    "        if list(dt['Area'])[j]==x[i]:\n",
    "            elist[i]=b[j]"
   ]
  },
  {
   "cell_type": "code",
   "execution_count": 371,
   "metadata": {
    "collapsed": false
   },
   "outputs": [
    {
     "data": {
      "text/html": [
       "<iframe id=\"igraph\" scrolling=\"no\" style=\"border:none;\" seamless=\"seamless\" src=\"https://plot.ly/~jinghantang54/2.embed\" height=\"500px\" width=\"650px\"></iframe>"
      ],
      "text/plain": [
       "<plotly.tools.PlotlyDisplay object>"
      ]
     },
     "execution_count": 371,
     "metadata": {},
     "output_type": "execute_result"
    }
   ],
   "source": [
    "#Visualize the relation between grants distribution and GDP by state\n",
    "trace1 = go.Bar(\n",
    "    x=x,\n",
    "    y=blist,\n",
    "    marker=dict(\n",
    "        color='#ff66cc',\n",
    "    ),\n",
    "    name=\"1996 grants distribution\",\n",
    "    opacity=1,\n",
    "    xaxis=\"x1\", \n",
    "    yaxis=\"y2\",\n",
    ")\n",
    "trace2 = go.Bar(\n",
    "    x=x,\n",
    "    y=clist,\n",
    "    marker=dict(\n",
    "        color='#cc0000',\n",
    "    ),\n",
    "    name=\"1997 grants distribution\",\n",
    "    opacity=1,\n",
    "    xaxis= \"x1\", \n",
    "    yaxis=\"y2\"\n",
    ")\n",
    "trace3 = go.Bar(\n",
    "    x=x,\n",
    "    y=dlist,\n",
    "    marker=dict(\n",
    "        color='#ff66cc',\n",
    "    ),\n",
    "    name=\"1996 GDP by state\",\n",
    "    opacity=1,\n",
    "    xaxis= \"x1\", \n",
    "    yaxis= \"y1\"\n",
    ")\n",
    "\n",
    "trace4 = go.Bar(\n",
    "    x=x,\n",
    "    y=elist,\n",
    "    marker=dict(\n",
    "        color='#cc0000',\n",
    "    ),\n",
    "    name=\"1997 GDP by state\",\n",
    "    opacity=1,\n",
    "    xaxis= \"x1\", \n",
    "    yaxis= \"y1\"\n",
    ")\n",
    "data3 = Data([trace1, trace2, trace3, trace4])\n",
    "\n",
    "layout = go.Layout(\n",
    "  annotations=[\n",
    "      dict(\n",
    "      x=0, \n",
    "      y=1.3, \n",
    "      bgcolor=\"#F5F3F2\", \n",
    "      bordercolor= \"#FFFFFF\", \n",
    "      borderpad= 20, \n",
    "      borderwidth= 1, \n",
    "      font=dict( \n",
    "          size=20, \n",
    "      ),\n",
    "      showarrow=False, \n",
    "      text=\"Fig. 5: <b>GDP by state VS IMLS grants<br>(1996&1997)</b>\", \n",
    "      xref=\"paper\", \n",
    "      yref=\"paper\"\n",
    "      ), \n",
    "      dict(\n",
    "      x=0, \n",
    "      y=-0.3, \n",
    "      bgcolor=\"#F5F3F2\", \n",
    "      bordercolor= \"#FFFFFF\", \n",
    "      borderpad= 10, \n",
    "      borderwidth= 1, \n",
    "      font=dict( \n",
    "          size=10, \n",
    "      ),\n",
    "      showarrow=False, \n",
    "      text= \"<b>source:FRED</b>\", \n",
    "      xref=\"paper\", \n",
    "      yref=\"paper\"\n",
    "      ),\n",
    "      dict(\n",
    "      x=0.88, \n",
    "      y=1.2, \n",
    "      bgcolor=\"#ffffff\", \n",
    "      borderpad= 10, \n",
    "      font=dict( \n",
    "          color=\"#ff66cc\",\n",
    "          size=12, \n",
    "      ),\n",
    "      showarrow=False, \n",
    "      text= \"<b>1996</b>\", \n",
    "      xref=\"paper\", \n",
    "      yref=\"paper\"\n",
    "      ),\n",
    "      dict(\n",
    "      x=1, \n",
    "      y=1.2, \n",
    "      bgcolor=\"#ffffff\", \n",
    "      borderpad= 10, \n",
    "      font=dict(\n",
    "          color=\"#cc0000\",\n",
    "          size=12, \n",
    "       ),\n",
    "      showarrow=False, \n",
    "      text= \"<b>1997</b>\", \n",
    "      xref=\"paper\", \n",
    "      yref=\"paper\"\n",
    "      ),\n",
    "  ],\n",
    "  autosize=False,\n",
    "  bargap=0.25, \n",
    "  bargroupgap=0, \n",
    "  barmode=\"group\", \n",
    "  font=dict( \n",
    "    color= \"#635F5D\", \n",
    "    family= \"Droid Serif, serif\"\n",
    "  ), \n",
    "  height= 500, \n",
    "  margin=dict( \n",
    "    r= 25, \n",
    "    t= 100, \n",
    "    b= 100, \n",
    "    l= 70\n",
    "  ), \n",
    "  paper_bgcolor=\"#EFECEA\", \n",
    "  plot_bgcolor=\"#EFECEA\", \n",
    "  showlegend= False, \n",
    "  title= \"GDP by state VS IMLS grants(1996&1997)\", \n",
    "  titlefont=dict( color=\"rgba(0,0,0,0)\"), \n",
    "  width= 650, \n",
    "  xaxis1=dict( \n",
    "    anchor=\"y2\", \n",
    "    domain=[0.0, 1.0], \n",
    "    gridcolor= \"#FFFFFF\", \n",
    "    tickangle= 45, \n",
    "    tickfont=dict( size= 13), \n",
    "    title=\"\", \n",
    "  ), \n",
    "  yaxis1=dict( \n",
    "    anchor= \"free\", \n",
    "    domain= [0.575, 1.0], \n",
    "    gridcolor= \"#FFFFFF\", \n",
    "    position= 0.0, \n",
    "    tickangle= 0, \n",
    "    tickfont=dict( size= 13), \n",
    "    title= \"<b>GDP by state</b> \", \n",
    "    zeroline=False\n",
    "  ), \n",
    "  yaxis2=dict( \n",
    "    anchor= \"x1\", \n",
    "    domain= [0.0, 0.425], \n",
    "    gridcolor= \"#FFFFFF\", \n",
    "    tickangle= 0, \n",
    "    tickfont= {\"size\": 13}, \n",
    "    title= \"<b>Number of received grants</b> \", \n",
    "    zeroline=False\n",
    "  ),\n",
    ")\n",
    "\n",
    "fig = Figure(data=data3, layout=layout)\n",
    "py.iplot( fig, filename='fig5' )"
   ]
  },
  {
   "cell_type": "code",
   "execution_count": null,
   "metadata": {
    "collapsed": true
   },
   "outputs": [],
   "source": []
  }
 ],
 "metadata": {
  "anaconda-cloud": {},
  "kernelspec": {
   "display_name": "Python 3",
   "language": "python",
   "name": "python3"
  },
  "language_info": {
   "codemirror_mode": {
    "name": "ipython",
    "version": 3
   },
   "file_extension": ".py",
   "mimetype": "text/x-python",
   "name": "python",
   "nbconvert_exporter": "python",
   "pygments_lexer": "ipython3",
   "version": "3.6.0"
  }
 },
 "nbformat": 4,
 "nbformat_minor": 1
}
