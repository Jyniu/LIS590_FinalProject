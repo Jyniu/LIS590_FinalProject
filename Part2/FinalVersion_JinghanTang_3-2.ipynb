{
 "cells": [
  {
   "cell_type": "code",
   "execution_count": 24,
   "metadata": {
    "collapsed": false
   },
   "outputs": [],
   "source": [
    "import pandas as pd \n",
    "%matplotlib inline\n",
    "import numpy as np\n",
    "import matplotlib.pyplot as plt\n",
    "import csv\n",
    "import os"
   ]
  },
  {
   "cell_type": "code",
   "execution_count": 25,
   "metadata": {
    "collapsed": false
   },
   "outputs": [
    {
     "data": {
      "text/plain": [
       "['LogNumber',\n",
       " 'Institution',\n",
       " 'Program',\n",
       " 'ProgramType',\n",
       " 'ProjectTitle',\n",
       " 'ProjectType',\n",
       " 'AwardDate',\n",
       " 'InstAddr1',\n",
       " 'InstAddr2',\n",
       " 'InstAddr3',\n",
       " 'InstCity',\n",
       " 'InstState',\n",
       " 'InstZip',\n",
       " 'AwardOrig',\n",
       " 'AwardTotal',\n",
       " 'AppMatchAmount',\n",
       " 'ReqAwardAmount',\n",
       " 'ReqMatchAmount',\n",
       " 'Prefix',\n",
       " 'FirstName',\n",
       " 'LastName',\n",
       " 'OrgType',\n",
       " 'FiscalYear',\n",
       " 'AwardPeriodFr',\n",
       " 'AwardPeriodTo',\n",
       " 'OrgUnit',\n",
       " 'OUAddr1',\n",
       " 'OUAddr2',\n",
       " 'OUAddr3',\n",
       " 'OUCity',\n",
       " 'OUState',\n",
       " 'OUZip',\n",
       " 'Latitude',\n",
       " 'Longitude',\n",
       " 'FIPSState',\n",
       " 'FIPSCounty',\n",
       " 'CensusTract',\n",
       " 'CensusBlock',\n",
       " 'FIPSMCDCode',\n",
       " 'FIPSPlaceCode',\n",
       " 'CBSACode',\n",
       " 'MetroDivisionCode',\n",
       " 'Description']"
      ]
     },
     "execution_count": 25,
     "metadata": {},
     "output_type": "execute_result"
    }
   ],
   "source": [
    "fn = \"IMLS.csv\"\n",
    "data = {}\n",
    "with open(fn, \"r\") as f:\n",
    "    reader = csv.reader(f)\n",
    "    header = next(reader)\n",
    "header              #learn the dataset"
   ]
  },
  {
   "cell_type": "code",
   "execution_count": 26,
   "metadata": {
    "collapsed": false
   },
   "outputs": [
    {
     "data": {
      "text/plain": [
       "'2.0.7'"
      ]
     },
     "execution_count": 26,
     "metadata": {},
     "output_type": "execute_result"
    }
   ],
   "source": [
    "import plotly\n",
    "plotly.__version__"
   ]
  },
  {
   "cell_type": "code",
   "execution_count": 27,
   "metadata": {
    "collapsed": false
   },
   "outputs": [
    {
     "data": {
      "text/html": [
       "<iframe id=\"igraph\" scrolling=\"no\" style=\"border:none;\" seamless=\"seamless\" src=\"https://plot.ly/~JinghanTang/6.embed\" height=\"525px\" width=\"100%\"></iframe>"
      ],
      "text/plain": [
       "<plotly.tools.PlotlyDisplay object>"
      ]
     },
     "execution_count": 27,
     "metadata": {},
     "output_type": "execute_result"
    }
   ],
   "source": [
    "import plotly.plotly as py   \n",
    "df = pd.read_csv('IMLS.csv',encoding='iso-8859-1',sep=',') #use pandas to open and store the data as 'df'\n",
    "df['text'] = df['Institution'] + '<br>Award ' + (df['AwardTotal']).astype(str)+' dollar'\n",
    "groups = [(1000,5000),(5000,10000),(10000,100000),(100000,1000000),(1000000,10000000)]\n",
    "colors = [\"rgb(0,201,87)\",\"rgb(0,116,217)\",\"rgb(255,255,0)\",\"rgb(255,128,0)\",\"rgb(255,65,54)\"]\n",
    "d = []    #set the note text,the group range as well as color of bubbles\n",
    " \n",
    "for i in range(0,3): #divide the five groups into two sections using different scale to adjust the size in case the bubble of the first 2 groups are too small\n",
    "    end = groups[i]\n",
    "    sudf=df[((df['AwardTotal'])>end[0])&((df['AwardTotal'])<=end[1])]\n",
    "    Inst = dict(\n",
    "        type = 'scattergeo',\n",
    "        locationmode = 'USA-states',\n",
    "        lon = sudf['Longitude'],\n",
    "        lat = sudf['Latitude'],\n",
    "        text = sudf['text'],\n",
    "        marker = dict(\n",
    "            size = sudf['AwardTotal']/500,  #adjust the size of the bubble when price is too little\n",
    "            color = colors[i],\n",
    "            line = dict(width=0.5, color='rgb(40,40,40)'),\n",
    "            sizemode = 'area'\n",
    "        ),\n",
    "         name ='{0} - {1}'.format(end[0],end[1])+'  US dollar' )\n",
    "        \n",
    "    d.append(Inst)\n",
    "for i in range(3,len(groups)):\n",
    "    end = groups[i]\n",
    "    sudf=df[((df['AwardTotal'])>end[0])&((df['AwardTotal'])<=end[1])]\n",
    "    Inst = dict(\n",
    "        type = 'scattergeo',\n",
    "        locationmode = 'USA-states',\n",
    "        lon = sudf['Longitude'],\n",
    "        lat = sudf['Latitude'],\n",
    "        text = sudf['text'],\n",
    "        marker = dict(\n",
    "            size = sudf['AwardTotal']/5500, #adjust the size of the bubbles when price is quite big\n",
    "            color = colors[i],\n",
    "            line = dict(width=0.5, color='rgb(40,40,40)'),\n",
    "            sizemode = 'area'\n",
    "        ),\n",
    "         name ='{0} - {1}'.format(end[0],end[1])+'  US dollar' )\n",
    "        \n",
    "    d.append(Inst)\n",
    "\n",
    "layout = dict(\n",
    "        title = 'Awards Amount and Awarded Institutions Distribution(1996-2013)<br>(Click legend to toggle traces)',\n",
    "        showlegend = True,\n",
    "        geo = dict(  #import the usa map from plotly\n",
    "            scope='usa',\n",
    "            projection=dict( type='albers usa' ),\n",
    "            showland = True,\n",
    "            landcolor = 'rgb(217, 217, 217)',\n",
    "            subunitwidth=1,\n",
    "            countrywidth=1,\n",
    "            subunitcolor=\"rgb(255, 255, 255)\",\n",
    "            countrycolor=\"rgb(255, 255, 255)\"\n",
    "        ),\n",
    "    )\n",
    "plotly.tools.set_credentials_file(username='JinghanTang', api_key='Kzi5kFRGzdFAQEvHsIN0')\n",
    "fig = dict( data=d, layout=layout )\n",
    "py.iplot( fig, validate=False, filename='price_amount_distribution' )"
   ]
  },
  {
   "cell_type": "code",
   "execution_count": 28,
   "metadata": {
    "collapsed": false
   },
   "outputs": [
    {
     "data": {
      "text/html": [
       "<iframe id=\"igraph\" scrolling=\"no\" style=\"border:none;\" seamless=\"seamless\" src=\"https://plot.ly/~JinghanTang/8.embed\" height=\"525px\" width=\"100%\"></iframe>"
      ],
      "text/plain": [
       "<plotly.tools.PlotlyDisplay object>"
      ]
     },
     "execution_count": 28,
     "metadata": {},
     "output_type": "execute_result"
    }
   ],
   "source": [
    "df['text'] = df['Institution'] + '<br>Award ' + df['ProgramType']\n",
    "types = [      #build a list of grant types\n",
    "\"IM\",\n",
    "\"IC\",\n",
    "\"LT\",\n",
    "\"LG\",\n",
    "\"IA\",\n",
    "\"IS\",\n",
    "\"LI\",\n",
    "\"MA\",\n",
    "\"MH\",\n",
    "\"ML\",\n",
    "\"MN\",\n",
    "\"IG\",\n",
    "\"RE\",\n",
    "\"LE\",\n",
    "\"IL\",\n",
    "\"MP\",\n",
    "\"ST\"]\n",
    "colors = [\"rgb(0,201,87)\",\"rgb(188,143,143)\",\"rgb(135 206 235)\",\"rgb(255,0,225)\",\"rgb(61,145,64)\",\"rgb(218,112,205)\",\"rgb(255,235,205)\",\"rgb(135,38,87)\",\"rgb(61,89,171)\",\"rgb(30,144,255)\",\"rgb(189,252,201)\",\"rgb(255,192,203)\",\"rgb(94,38,15)\",\"rgb(255,0,1)\",\"rgb(255,255,0)\",\"rgb(255,128,0)\",\"rgb(163,148,128)\"]\n",
    "d2 = []   #select colors with quite big differences\n",
    "\n",
    " \n",
    "for i in range(len(types)):\n",
    "    sudf=df[(df['ProgramType'])==types[i]]\n",
    "    Inst = dict(\n",
    "        type = 'scattergeo',\n",
    "        locationmode = 'USA-states',\n",
    "        lon = sudf['Longitude'],\n",
    "        lat = sudf['Latitude'],\n",
    "        text = sudf['text'],\n",
    "        marker = dict(\n",
    "            size = 5,\n",
    "            color = colors[i],\n",
    "            line = dict(width=0.5, color='rgb(40,40,40)'),\n",
    "            sizemode = 'area'\n",
    "        ),\n",
    "         name ='{0} '.format(types[i]))\n",
    "        \n",
    "    d2.append(Inst)  # build the data for visualizaiont\n",
    "\n",
    "layout = dict(\n",
    "        title = '1996-2013 Awards Type and Awarded Institutions Distribution <br>(Click legend to toggle traces)',\n",
    "        showlegend = True,\n",
    "        geo = dict(\n",
    "            scope='usa',\n",
    "            projection=dict( type='albers usa' ),\n",
    "            showland = True,\n",
    "            landcolor = 'rgb(217, 217, 217)',\n",
    "            subunitwidth=1,\n",
    "            countrywidth=1,\n",
    "            subunitcolor=\"rgb(255, 255, 255)\",\n",
    "            countrycolor=\"rgb(255, 255, 255)\"\n",
    "        ),\n",
    "    )   #set the layout for visualization\n",
    "\n",
    "fig = dict( data=d2, layout=layout )\n",
    "py.iplot( fig, validate=False, filename='award_type_distribution' )"
   ]
  },
  {
   "cell_type": "code",
   "execution_count": 11,
   "metadata": {
    "collapsed": false
   },
   "outputs": [],
   "source": [
    "import csv # to generate the third plot, use csv to reopen the dataset and build a dictionary 'data' to store the data\n",
    "fn = \"IMLS.csv\"\n",
    "data = {}\n",
    "with open(fn, \"r\", encoding='iso-8859-1') as f:\n",
    "    reader = csv.reader(f,delimiter=',',quotechar='|')\n",
    "    header = next(reader)\n",
    "    for k in header:\n",
    "        data[k] = []\n",
    "    for row in reader:\n",
    "        for k,v in zip(header,row):\n",
    "            data[k].append(v)\n"
   ]
  },
  {
   "cell_type": "code",
   "execution_count": 12,
   "metadata": {
    "collapsed": false
   },
   "outputs": [
    {
     "data": {
      "text/plain": [
       "['LogNumber',\n",
       " 'Institution',\n",
       " 'Program',\n",
       " 'ProgramType',\n",
       " 'ProjectTitle',\n",
       " 'ProjectType',\n",
       " 'AwardDate',\n",
       " 'InstAddr1',\n",
       " 'InstAddr2',\n",
       " 'InstAddr3',\n",
       " 'InstCity',\n",
       " 'InstState',\n",
       " 'InstZip',\n",
       " 'AwardOrig',\n",
       " 'AwardTotal',\n",
       " 'AppMatchAmount',\n",
       " 'ReqAwardAmount',\n",
       " 'ReqMatchAmount',\n",
       " 'Prefix',\n",
       " 'FirstName',\n",
       " 'LastName',\n",
       " 'OrgType',\n",
       " 'FiscalYear',\n",
       " 'AwardPeriodFr',\n",
       " 'AwardPeriodTo',\n",
       " 'OrgUnit',\n",
       " 'OUAddr1',\n",
       " 'OUAddr2',\n",
       " 'OUAddr3',\n",
       " 'OUCity',\n",
       " 'OUState',\n",
       " 'OUZip',\n",
       " 'Latitude',\n",
       " 'Longitude',\n",
       " 'FIPSState',\n",
       " 'FIPSCounty',\n",
       " 'CensusTract',\n",
       " 'CensusBlock',\n",
       " 'FIPSMCDCode',\n",
       " 'FIPSPlaceCode',\n",
       " 'CBSACode',\n",
       " 'MetroDivisionCode',\n",
       " 'Description']"
      ]
     },
     "execution_count": 12,
     "metadata": {},
     "output_type": "execute_result"
    }
   ],
   "source": [
    "header"
   ]
  },
  {
   "cell_type": "code",
   "execution_count": 13,
   "metadata": {
    "collapsed": false
   },
   "outputs": [],
   "source": [
    "leng=len(data['Longitude'])"
   ]
  },
  {
   "cell_type": "code",
   "execution_count": 14,
   "metadata": {
    "collapsed": false
   },
   "outputs": [
    {
     "data": {
      "text/plain": [
       "nan"
      ]
     },
     "execution_count": 14,
     "metadata": {},
     "output_type": "execute_result"
    }
   ],
   "source": [
    "x=[]\n",
    "for i in df['InstState']:\n",
    "    if i not in x:\n",
    "        x.append(i)  #build a list for unique states in the 'InstState' column\n",
    "x.pop()  #remove the null value in the column"
   ]
  },
  {
   "cell_type": "code",
   "execution_count": 15,
   "metadata": {
    "collapsed": false
   },
   "outputs": [
    {
     "data": {
      "text/plain": [
       "['AK',\n",
       " 'AL',\n",
       " 'CA',\n",
       " 'CO',\n",
       " 'CT',\n",
       " 'DC',\n",
       " 'FL',\n",
       " 'GA',\n",
       " 'HI',\n",
       " 'ID',\n",
       " 'IL',\n",
       " 'IN',\n",
       " 'KS',\n",
       " 'KY',\n",
       " 'MA',\n",
       " 'MD',\n",
       " 'ME',\n",
       " 'MI',\n",
       " 'MN',\n",
       " 'MO',\n",
       " 'MS',\n",
       " 'MT',\n",
       " 'NC',\n",
       " 'NE',\n",
       " 'NH',\n",
       " 'NJ',\n",
       " 'NM',\n",
       " 'NV',\n",
       " 'NY',\n",
       " 'OH',\n",
       " 'OK',\n",
       " 'OR',\n",
       " 'PA',\n",
       " 'PR',\n",
       " 'SC',\n",
       " 'SD',\n",
       " 'TN',\n",
       " 'TX',\n",
       " 'UT',\n",
       " 'VA',\n",
       " 'VT',\n",
       " 'WA',\n",
       " 'WI',\n",
       " 'WV',\n",
       " 'AR',\n",
       " 'AZ',\n",
       " 'IA',\n",
       " 'ND',\n",
       " 'RI',\n",
       " 'DE',\n",
       " 'LA',\n",
       " 'WY',\n",
       " 'VI']"
      ]
     },
     "execution_count": 15,
     "metadata": {},
     "output_type": "execute_result"
    }
   ],
   "source": [
    "x"
   ]
  },
  {
   "cell_type": "code",
   "execution_count": 16,
   "metadata": {
    "collapsed": false
   },
   "outputs": [
    {
     "data": {
      "text/plain": [
       "53"
      ]
     },
     "execution_count": 16,
     "metadata": {},
     "output_type": "execute_result"
    }
   ],
   "source": [
    "len(x)"
   ]
  },
  {
   "cell_type": "code",
   "execution_count": 17,
   "metadata": {
    "collapsed": false
   },
   "outputs": [],
   "source": [
    "y=[]\n",
    "for i in df['ProgramType']:\n",
    "    if i not in y:\n",
    "        y.append(i) #build  a list of unique grant type"
   ]
  },
  {
   "cell_type": "code",
   "execution_count": 18,
   "metadata": {
    "collapsed": false
   },
   "outputs": [
    {
     "data": {
      "text/plain": [
       "['IA',\n",
       " 'IC',\n",
       " 'IG',\n",
       " 'IL',\n",
       " 'IM',\n",
       " 'IS',\n",
       " 'LE',\n",
       " 'LG',\n",
       " 'LI',\n",
       " 'LT',\n",
       " 'MA',\n",
       " 'MH',\n",
       " 'ML',\n",
       " 'MN',\n",
       " 'RE',\n",
       " 'ST',\n",
       " 'MP']"
      ]
     },
     "execution_count": 18,
     "metadata": {},
     "output_type": "execute_result"
    }
   ],
   "source": [
    "y"
   ]
  },
  {
   "cell_type": "code",
   "execution_count": 19,
   "metadata": {
    "collapsed": false
   },
   "outputs": [],
   "source": [
    "adict={} #build  a dictionary to match the states and grants and count the appearance of each state in each grant \n",
    "for k in y:\n",
    "    adict[k]=[]\n",
    "    for f in x:\n",
    "        adict[k].append([f,0])\n",
    "for j in range(len(y)):\n",
    "    for i in range(leng):\n",
    "        if data['ProgramType'][i]==y[j]:\n",
    "            if data['InstState'][i] in x:\n",
    "                adict[y[j]][x.index(data['InstState'][i])][1]+=1"
   ]
  },
  {
   "cell_type": "code",
   "execution_count": 20,
   "metadata": {
    "collapsed": false
   },
   "outputs": [
    {
     "data": {
      "text/plain": [
       "17"
      ]
     },
     "execution_count": 20,
     "metadata": {},
     "output_type": "execute_result"
    }
   ],
   "source": [
    "len(adict)"
   ]
  },
  {
   "cell_type": "code",
   "execution_count": 21,
   "metadata": {
    "collapsed": false
   },
   "outputs": [
    {
     "data": {
      "text/plain": [
       "[7,\n",
       " 5,\n",
       " 73,\n",
       " 29,\n",
       " 35,\n",
       " 0,\n",
       " 18,\n",
       " 9,\n",
       " 8,\n",
       " 3,\n",
       " 44,\n",
       " 9,\n",
       " 6,\n",
       " 8,\n",
       " 84,\n",
       " 25,\n",
       " 32,\n",
       " 43,\n",
       " 25,\n",
       " 18,\n",
       " 0,\n",
       " 11,\n",
       " 16,\n",
       " 5,\n",
       " 23,\n",
       " 15,\n",
       " 8,\n",
       " 0,\n",
       " 114,\n",
       " 32,\n",
       " 2,\n",
       " 11,\n",
       " 79,\n",
       " 0,\n",
       " 2,\n",
       " 4,\n",
       " 10,\n",
       " 22,\n",
       " 10,\n",
       " 24,\n",
       " 17,\n",
       " 9,\n",
       " 32,\n",
       " 0,\n",
       " 3,\n",
       " 18,\n",
       " 10,\n",
       " 1,\n",
       " 10,\n",
       " 12,\n",
       " 10,\n",
       " 4,\n",
       " 1]"
      ]
     },
     "execution_count": 21,
     "metadata": {},
     "output_type": "execute_result"
    }
   ],
   "source": [
    "alist=[]  #add all the times of appearance into  alist\n",
    "for i in range(len(y)):\n",
    "    alist.append(adict[y[i]][0][1])\n",
    "    alist.append(adict[y[i]][1][1])\n",
    "    alist.append(adict[y[i]][2][1])\n",
    "    alist.append(adict[y[i]][3][1])\n",
    "    alist.append(adict[y[i]][4][1])\n",
    "    alist.append(adict[y[i]][5][1])\n",
    "    alist.append(adict[y[i]][6][1])\n",
    "    alist.append(adict[y[i]][7][1])\n",
    "    alist.append(adict[y[i]][8][1])\n",
    "    alist.append(adict[y[i]][9][1])\n",
    "    alist.append(adict[y[i]][10][1])\n",
    "    alist.append(adict[y[i]][11][1])\n",
    "    alist.append(adict[y[i]][12][1])\n",
    "    alist.append(adict[y[i]][13][1])\n",
    "    alist.append(adict[y[i]][14][1])\n",
    "    alist.append(adict[y[i]][15][1])\n",
    "    alist.append(adict[y[i]][16][1])\n",
    "    alist.append(adict[y[i]][17][1])\n",
    "    alist.append(adict[y[i]][18][1])\n",
    "    alist.append(adict[y[i]][19][1])\n",
    "    alist.append(adict[y[i]][20][1])\n",
    "    alist.append(adict[y[i]][21][1])\n",
    "    alist.append(adict[y[i]][22][1])\n",
    "    alist.append(adict[y[i]][23][1])\n",
    "    alist.append(adict[y[i]][24][1])\n",
    "    alist.append(adict[y[i]][25][1])\n",
    "    alist.append(adict[y[i]][26][1])\n",
    "    alist.append(adict[y[i]][27][1])\n",
    "    alist.append(adict[y[i]][28][1])\n",
    "    alist.append(adict[y[i]][29][1])\n",
    "    alist.append(adict[y[i]][30][1])\n",
    "    alist.append(adict[y[i]][31][1])\n",
    "    alist.append(adict[y[i]][32][1])\n",
    "    alist.append(adict[y[i]][33][1])\n",
    "    alist.append(adict[y[i]][34][1])\n",
    "    alist.append(adict[y[i]][35][1])\n",
    "    alist.append(adict[y[i]][36][1])\n",
    "    alist.append(adict[y[i]][37][1])\n",
    "    alist.append(adict[y[i]][38][1])\n",
    "    alist.append(adict[y[i]][39][1])\n",
    "    alist.append(adict[y[i]][40][1])\n",
    "    alist.append(adict[y[i]][41][1])\n",
    "    alist.append(adict[y[i]][42][1])\n",
    "    alist.append(adict[y[i]][43][1])\n",
    "    alist.append(adict[y[i]][44][1])\n",
    "    alist.append(adict[y[i]][45][1])\n",
    "    alist.append(adict[y[i]][46][1])\n",
    "    alist.append(adict[y[i]][47][1])\n",
    "    alist.append(adict[y[i]][48][1])\n",
    "    alist.append(adict[y[i]][49][1])\n",
    "    alist.append(adict[y[i]][50][1])\n",
    "    alist.append(adict[y[i]][51][1])\n",
    "    alist.append(adict[y[i]][52][1])\n",
    "\n",
    "\n",
    "x1=alist[53:53*2]\n",
    "x1"
   ]
  },
  {
   "cell_type": "code",
   "execution_count": 22,
   "metadata": {
    "collapsed": false
   },
   "outputs": [
    {
     "data": {
      "text/plain": [
       "562"
      ]
     },
     "execution_count": 22,
     "metadata": {},
     "output_type": "execute_result"
    }
   ],
   "source": [
    "x0=alist[0:len(x)]  #divide the list and assign the data of each grant to their respective list \n",
    "x1=alist[len(x):len(x)*2]\n",
    "x2=alist[len(x)*2:len(x)*3]\n",
    "x3=alist[len(x)*3:len(x)*4]\n",
    "x4=alist[len(x)*4:len(x)*5]\n",
    "x5=alist[len(x)*5:len(x)*6]\n",
    "x6=alist[len(x)*6:len(x)*7]\n",
    "x7=alist[len(x)*7:len(x)*8]\n",
    "x8=alist[len(x)*8:len(x)*9]\n",
    "x9=alist[len(x)*9:len(x)*10]\n",
    "x10=alist[len(x)*10:len(x)*11]\n",
    "x11=alist[len(x)*11:len(x)*12]\n",
    "x12=alist[len(x)*12:len(x)*13]\n",
    "x13=alist[len(x)*13:len(x)*14]\n",
    "x14=alist[len(x)*14:len(x)*15]\n",
    "x15=alist[len(x)*15:len(x)*16]\n",
    "x16=alist[len(x)*16:len(x)*17]\n",
    "\n",
    "max(alist)"
   ]
  },
  {
   "cell_type": "code",
   "execution_count": 23,
   "metadata": {
    "collapsed": false
   },
   "outputs": [
    {
     "data": {
      "text/html": [
       "<iframe id=\"igraph\" scrolling=\"no\" style=\"border:none;\" seamless=\"seamless\" src=\"https://plot.ly/~jxljiang221/8.embed\" height=\"525px\" width=\"100%\"></iframe>"
      ],
      "text/plain": [
       "<plotly.tools.PlotlyDisplay object>"
      ]
     },
     "execution_count": 23,
     "metadata": {},
     "output_type": "execute_result"
    }
   ],
   "source": [
    "import plotly.plotly as py\n",
    "import plotly.graph_objs as go\n",
    "\n",
    "GrantType = x\n",
    "\n",
    "# Create and style traces for each line(grant)\n",
    "trace0 = go.Scatter(\n",
    "    x = x,\n",
    "    y = x0,\n",
    "    name = y[0],\n",
    "    line = dict(\n",
    "        color = colors[0],\n",
    "        width = 2)\n",
    ")\n",
    "trace1 = go.Scatter(\n",
    "    x = x,\n",
    "    y = x1,\n",
    "    name = y[1],\n",
    "    line = dict(\n",
    "        color = colors[1],\n",
    "        width = 2,)\n",
    ")\n",
    "trace2 = go.Scatter(\n",
    "    x = x,\n",
    "    y = x2,\n",
    "    name = y[2],\n",
    "    line = dict(\n",
    "        color = colors[2],\n",
    "        width = 2,\n",
    "        ) \n",
    ")\n",
    "trace3 = go.Scatter(\n",
    "    x = x,\n",
    "    y = x3,\n",
    "    name = y[3],\n",
    "    line = dict(\n",
    "        color = colors[3],\n",
    "        width = 2,\n",
    "        )\n",
    ")\n",
    "trace4 = go.Scatter(\n",
    "    x = x,\n",
    "    y = x4,\n",
    "    name = y[4],\n",
    "    line = dict(\n",
    "        color = colors[4],\n",
    "        width = 2,\n",
    "        )\n",
    ")\n",
    "trace5 = go.Scatter(\n",
    "    x = x,\n",
    "    y = x5,\n",
    "    name = y[5],\n",
    "    line = dict(\n",
    "        color = colors[5],\n",
    "        width = 2,\n",
    "        )\n",
    ")\n",
    "trace6 = go.Scatter(\n",
    "    x = x,\n",
    "    y = x6,\n",
    "    name = y[6],\n",
    "    line = dict(\n",
    "        color = colors[6],\n",
    "        width = 2,\n",
    "        )\n",
    ")\n",
    "trace7 = go.Scatter(\n",
    "    x = x,\n",
    "    y = x7,\n",
    "    name = y[7],\n",
    "    line = dict(\n",
    "        color = colors[7],\n",
    "        width = 2,\n",
    "       )\n",
    ")\n",
    "trace8 = go.Scatter(\n",
    "    x = x,\n",
    "    y = x8,\n",
    "    name = y[8],\n",
    "    line = dict(\n",
    "        color = colors[8],\n",
    "        width = 2,\n",
    "      )\n",
    ")\n",
    "trace9 = go.Scatter(\n",
    "    x = x,\n",
    "    y = x9,\n",
    "    name = y[9],\n",
    "    line = dict(\n",
    "        color = colors[9],\n",
    "        width = 2,\n",
    "  )\n",
    ")\n",
    "trace10 = go.Scatter(\n",
    "    x = x,\n",
    "    y = x10,\n",
    "    name = y[10],\n",
    "    line = dict(\n",
    "        color = colors[10],\n",
    "        width = 2,\n",
    "   )\n",
    ")\n",
    "trace11 = go.Scatter(\n",
    "    x = x,\n",
    "    y = x11,\n",
    "    name = y[11],\n",
    "    line = dict(\n",
    "        color = colors[11],\n",
    "        width = 2,\n",
    ")\n",
    ")\n",
    "trace12 = go.Scatter(\n",
    "    x = x,\n",
    "    y = x6,\n",
    "    name = y[12],\n",
    "    line = dict(\n",
    "        color = colors[12],\n",
    "        width = 2,\n",
    " )\n",
    ")\n",
    "trace13 = go.Scatter(\n",
    "    x = x,\n",
    "    y = x13,\n",
    "    name = y[13],\n",
    "    line = dict(\n",
    "        color = colors[13],\n",
    "        width = 2,\n",
    "   )\n",
    ")\n",
    "trace14 = go.Scatter(\n",
    "    x = x,\n",
    "    y = x14,\n",
    "    name = y[14],\n",
    "    line = dict(\n",
    "        color =colors[14],\n",
    "        width = 2,\n",
    ")\n",
    ")\n",
    "trace15 = go.Scatter(\n",
    "    x = x,\n",
    "    y = x15,\n",
    "    name = y[15],\n",
    "    line = dict(\n",
    "        color = colors[15],\n",
    "        width = 2,\n",
    " )\n",
    ")\n",
    "trace16 = go.Scatter(\n",
    "    x = x,\n",
    "    y = x16,\n",
    "    name = y[16],\n",
    "    line = dict(\n",
    "        color = colors[0],\n",
    "        width = 2,\n",
    " )\n",
    ")\n",
    "data = [trace0, trace1, trace2, trace3, trace4, trace5,trace6, trace7, trace8, trace9, trace10, trace11,trace12, trace13, trace14, trace15,trace16]\n",
    "\n",
    "# Set the title and axises \n",
    "layout = dict(title='Amount of Different Type of Awards Received in each State <br>(Move your mouse on the chart to see details)',\n",
    "              xaxis = dict(title = 'Institution State'),\n",
    "              yaxis = dict(title = 'Amount of received awards between 1996-2013'),\n",
    "              )\n",
    "\n",
    "fig = dict(data=data, layout=layout)\n",
    "py.iplot(fig, filename='correlation between states and award')"
   ]
  },
  {
   "cell_type": "code",
   "execution_count": null,
   "metadata": {
    "collapsed": true
   },
   "outputs": [],
   "source": []
  }
 ],
 "metadata": {
  "anaconda-cloud": {},
  "kernelspec": {
   "display_name": "Python 3",
   "language": "python",
   "name": "python3"
  },
  "language_info": {
   "codemirror_mode": {
    "name": "ipython",
    "version": 3
   },
   "file_extension": ".py",
   "mimetype": "text/x-python",
   "name": "python",
   "nbconvert_exporter": "python",
   "pygments_lexer": "ipython3",
   "version": "3.6.0"
  }
 },
 "nbformat": 4,
 "nbformat_minor": 1
}
