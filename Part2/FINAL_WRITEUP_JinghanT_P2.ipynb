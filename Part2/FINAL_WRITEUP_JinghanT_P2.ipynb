{
 "cells": [
  {
   "cell_type": "markdown",
   "metadata": {},
   "source": [
    "# WRITEUP FOR PART 2:"
   ]
  },
  {
   "cell_type": "markdown",
   "metadata": {},
   "source": [
    "### The three questions for part 2:\n",
    "---What types of grants are supported by IMLS?\n",
    "\n",
    "---How are these grants distributed across the United States? Are they particularly clustered in certain states?\n",
    "\n",
    "---Is there a relationship between the economic factors in a zip code and the grants from IMLS?\n",
    "\n"
   ]
  },
  {
   "cell_type": "markdown",
   "metadata": {},
   "source": [
    "To get a general idea of grants distribution, I try to display the data with scattered dots on a USA map.\n",
    "      \n",
    "That's why I generated the first two plots. The difference between them is that each of them reveals a second feature of the grant. The first plot I built shows the correlation between the location of the institution and the amount of award.The size of each bubbles indicates the amount, while the color of the bubbles conveys their scale.Second plot shows the relation between the type of the grants and the location of the institustion. The visualization framework I adopted is mostly plotly, which has a nice map library to display the data and provides sound interactive functions."
   ]
  },
  {
   "cell_type": "markdown",
   "metadata": {},
   "source": [
    "The third chart actually could provide my answer to all the three questions to some extent, especiall the third one. \n",
    "\n",
    "Whether there are clusters in some particully states; whether the locations have an effect on the distribution of grants. To answer these questions, I hope to display the relation between the locations of institute and all the type of grants they have received within one chart. Thus, I selected the 'state' column and the 'type of award' columns, combining with the count of each type of awards. At first I swayed between line chart and histogram for visualization. If it's a histogram, I would want to generate an interactive chart like this:"
   ]
  },
  {
   "cell_type": "markdown",
   "metadata": {},
   "source": [
    "![alt text](most common complaints by hour.png \"most common complaints by hour.png\")"
   ]
  },
  {
   "cell_type": "markdown",
   "metadata": {},
   "source": [
    "However, then I decided histogram is quite hard to read in my situation.There are 53 states involved in the dataset, so both the bar and the legend would be too much. If using state names as lateral axix units, whether the height is overlaid or all start at horizontal may be confusing to some readers."
   ]
  },
  {
   "cell_type": "markdown",
   "metadata": {},
   "source": [
    "Another choice is that I generate another map of USA to convey the data:\n",
    "(states as the units) "
   ]
  },
  {
   "cell_type": "markdown",
   "metadata": {},
   "source": [
    "![alt text](Sales_Map2.png \"Sales_Map2.png\")"
   ]
  },
  {
   "cell_type": "markdown",
   "metadata": {},
   "source": [
    "But it's hard to convey the amount of each grants in all the states within a map, and the plot won't be as clear as a line chart."
   ]
  },
  {
   "cell_type": "markdown",
   "metadata": {},
   "source": [
    "![alt text](Line.png \"Line.png\")"
   ]
  },
  {
   "cell_type": "markdown",
   "metadata": {},
   "source": [
    "On the contary,in the line chart above, the height of each line are independent from each other and the area below the line shows the total amount of the grant from 1996 to 2003. If we move our mouse on the columns, the specific number for each grant would apear. We can also click on the legend to check each grant's details. Thus as for strength of my approach, I guess this line chart can explain the relationship between location and the amount of each grants quite clearly."
   ]
  },
  {
   "cell_type": "markdown",
   "metadata": {},
   "source": [
    "The weakness of the visualization is that I didn't choose zipcode as my studied feature, which may be a little bit more complex than using state but if I have more time I would try doing another chart with that using more data from FRED to show a better idea of the economic factors of zipcode. Also, If the states are conveyed by the map, the location of the institutions could be clearer, so another thing I want to try is building a 3D map---putting the line chart above on a USA map."
   ]
  },
  {
   "cell_type": "markdown",
   "metadata": {},
   "source": [
    "As for the last question for final writeup, in our group, we basically assign the four parts to four members, so this part, including the code, data management and the writeup is assigned to me. We enjoy challenging ourselves but we group-meeting a lot when we discuss our work and get advice from the members."
   ]
  },
  {
   "cell_type": "code",
   "execution_count": null,
   "metadata": {
    "collapsed": true
   },
   "outputs": [],
   "source": []
  }
 ],
 "metadata": {
  "kernelspec": {
   "display_name": "Python 3",
   "language": "python",
   "name": "python3"
  },
  "language_info": {
   "codemirror_mode": {
    "name": "ipython",
    "version": 3
   },
   "file_extension": ".py",
   "mimetype": "text/x-python",
   "name": "python",
   "nbconvert_exporter": "python",
   "pygments_lexer": "ipython3",
   "version": "3.6.0"
  }
 },
 "nbformat": 4,
 "nbformat_minor": 2
}
